{
 "nbformat": 4,
 "nbformat_minor": 2,
 "metadata": {
  "language_info": {
   "name": "python",
   "codemirror_mode": {
    "name": "ipython",
    "version": 3
   },
   "version": "3.7.4-final"
  },
  "orig_nbformat": 2,
  "file_extension": ".py",
  "mimetype": "text/x-python",
  "name": "python",
  "npconvert_exporter": "python",
  "pygments_lexer": "ipython3",
  "version": 3,
  "kernelspec": {
   "name": "python37464bitanaconda3virtualenvc6160eab42a54c3590acbe118843c3bb",
   "display_name": "Python 3.7.4 64-bit ('anaconda3': virtualenv)"
  }
 },
 "cells": [
  {
   "cell_type": "code",
   "execution_count": null,
   "metadata": {},
   "outputs": [],
   "source": [
    "import pandas as pd\n",
    "from sqlalchemy import create_engine"
   ]
  },
  {
   "cell_type": "code",
   "execution_count": null,
   "metadata": {},
   "outputs": [],
   "source": [
    "### Extract CSVs into DataFrames"
   ]
  },
  {
   "cell_type": "code",
   "execution_count": null,
   "metadata": {},
   "outputs": [],
   "source": [
    "beer_states = \"Resources/beer_states.csv\"\n",
    "beer_states_df = pd.read_csv(beer_states)\n",
    "beer_states_tot_df = beer_states_df[beer_states_df[\"state\"]!=\"total\"]\n",
    "#beer_states_tot_df = beer_states_tot_df.groupby(\"year\").sum()\n",
    "beer_states_tot_df\n",
    "\n",
    "# range 2008 to 2017"
   ]
  },
  {
   "cell_type": "code",
   "execution_count": null,
   "metadata": {},
   "outputs": [],
   "source": [
    "beer_states_df[beer_states_df[\"state\"].str.contains(\"total\")==False]"
   ]
  },
  {
   "cell_type": "code",
   "execution_count": null,
   "metadata": {},
   "outputs": [],
   "source": [
    "presentations = beer_states_df.type.unique()\n",
    "presentations_df = pd.DataFrame(presentations)\n",
    "presentations_df"
   ]
  },
  {
   "cell_type": "code",
   "execution_count": null,
   "metadata": {},
   "outputs": [],
   "source": [
    "#year_states = beer_states_df.year.unique()\n",
    "#year_states_df = pd.DataFrame(year_states)\n",
    "#year_states_df"
   ]
  },
  {
   "cell_type": "code",
   "execution_count": null,
   "metadata": {},
   "outputs": [],
   "source": [
    "#brewer_size = \"Resources/brewer_size.csv\"\n",
    "#brewer_size_df = pd.read_csv(brewer_size)\n",
    "#brewer_size_df.head()"
   ]
  },
  {
   "cell_type": "code",
   "execution_count": null,
   "metadata": {},
   "outputs": [],
   "source": [
    "brewing_materials = \"Resources/brewing_materials.csv\"\n",
    "brewing_materials_df = pd.read_csv(brewing_materials)\n",
    "#brewing_materials_df = brewing_materials_df.sort_values(by=\"type\")\n",
    "brewing_materials_df.columns.values"
   ]
  },
  {
   "cell_type": "code",
   "execution_count": null,
   "metadata": {},
   "outputs": [],
   "source": [
    "brewing_materials_df = brewing_materials_df[['material_type', 'year', 'month', 'type','month_current']]\n",
    "#brewing_materials_df.reset_index(inplace=True)\n",
    "\n",
    "brewing_materials_df"
   ]
  },
  {
   "cell_type": "code",
   "execution_count": null,
   "metadata": {},
   "outputs": [],
   "source": [
    "brewing_materials_df = brewing_materials_df[brewing_materials_df[\"material_type\"].str.contains(\"Total\")==False]\n",
    "brewing_materials_df"
   ]
  },
  {
   "cell_type": "code",
   "execution_count": null,
   "metadata": {},
   "outputs": [],
   "source": [
    "brewing_materials_df[brewing_materials_df[\"type\"].str.contains(\"Total\")==False]"
   ]
  },
  {
   "cell_type": "code",
   "execution_count": null,
   "metadata": {},
   "outputs": [],
   "source": [
    "types_brewing = brewing_materials_df.type.unique()\n",
    "types_brewing_df = pd.DataFrame(types_brewing)\n",
    "types_brewing_df"
   ]
  },
  {
   "cell_type": "code",
   "execution_count": null,
   "metadata": {},
   "outputs": [],
   "source": [
    "material_brewing = brewing_materials_df.material_type.unique()\n",
    "material_brewing_df = pd.DataFrame(material_brewing)\n",
    "material_brewing_df"
   ]
  },
  {
   "cell_type": "code",
   "execution_count": null,
   "metadata": {},
   "outputs": [],
   "source": [
    "#brewing_materials_df.year.unique()"
   ]
  },
  {
   "cell_type": "code",
   "execution_count": null,
   "metadata": {},
   "outputs": [],
   "source": [
    "#year_materials = brewing_materials_df.year.unique()\n",
    "#year_materials_df = pd.DataFrame(year_materials)\n",
    "#year_materials_df"
   ]
  },
  {
   "cell_type": "code",
   "execution_count": null,
   "metadata": {},
   "outputs": [],
   "source": [
    "### Transform DataFrame"
   ]
  },
  {
   "cell_type": "code",
   "execution_count": null,
   "metadata": {},
   "outputs": [],
   "source": [
    "# Create a filtered dataframe from specific columns\n",
    "#beer_states_cols = [\"state\", \"year\", \"barrels\", \"type\"]\n",
    "#beer_states_transformed = beer_states_df[beer_states_cols].copy()\n",
    "\n",
    "# Clean the data setting the index\n",
    "#beer_states_transformed.set_index(\"year\", inplace=True)\n",
    "#beer_states_transformed.head()"
   ]
  },
  {
   "cell_type": "code",
   "execution_count": null,
   "metadata": {},
   "outputs": [],
   "source": [
    "# Create a filtered dataframe from specific columns\n",
    "#brewer_size_cols = [\"year\", \"brewer_size\", \"n_of_brewers\", \"total_barrels\"]\n",
    "#brewer_size_transformed = brewer_size_df[brewer_size_cols].copy()\n",
    "\n",
    "# Clean the data by setting the index\n",
    "#brewer_size_transformed.set_index(\"year\", inplace=True)\n",
    "#brewer_size_transformed.head()"
   ]
  },
  {
   "cell_type": "code",
   "execution_count": null,
   "metadata": {},
   "outputs": [],
   "source": [
    "# Create a filtered dataframe from specific columns\n",
    "#brewing_materials_cols = [\"material_type\", \"year\", \"month\", \"type\", \"month_current\"]\n",
    "#brewing_materials_transformed= brewing_materials_df[brewing_materials_cols].copy()\n",
    "\n",
    "# Rename the column headers\n",
    "#brewing_materials_transformed = brewing_materials_transformed.rename(columns={\"month_current\": \"barrels\"})\n",
    "\n",
    "# Clean the data by dropping duplicates and setting the index\n",
    "#brewing_materials_transformed.set_index(\"year\", inplace=True)\n",
    "\n",
    "#brewing_materials_transformed.head()"
   ]
  },
  {
   "cell_type": "code",
   "execution_count": null,
   "metadata": {},
   "outputs": [],
   "source": [
    "### Create database connection"
   ]
  },
  {
   "cell_type": "code",
   "execution_count": null,
   "metadata": {},
   "outputs": [],
   "source": [
    "connection_string = \"postgres:1318@localhost:5432/beer_db\"\n",
    "engine = create_engine(f'postgresql://{connection_string}')"
   ]
  },
  {
   "cell_type": "code",
   "execution_count": null,
   "metadata": {},
   "outputs": [],
   "source": [
    "# Confirm tables\n",
    "engine.table_names()"
   ]
  },
  {
   "cell_type": "code",
   "execution_count": null,
   "metadata": {},
   "outputs": [],
   "source": [
    "### Load DataFrames into database"
   ]
  },
  {
   "cell_type": "code",
   "execution_count": null,
   "metadata": {},
   "outputs": [],
   "source": [
    "presentations_df.to_sql(name='beer_presentation', con=engine, if_exists='append', index=True)"
   ]
  },
  {
   "cell_type": "code",
   "execution_count": null,
   "metadata": {},
   "outputs": [],
   "source": [
    "types_brewing_df.to_sql(name='brewing_type', con=engine, if_exists='append', index=True)\n"
   ]
  },
  {
   "cell_type": "code",
   "execution_count": null,
   "metadata": {},
   "outputs": [],
   "source": [
    "material_brewing_df.to_sql(name='brewing_material', con=engine, if_exists='append', index=True)\n"
   ]
  }
 ]
}