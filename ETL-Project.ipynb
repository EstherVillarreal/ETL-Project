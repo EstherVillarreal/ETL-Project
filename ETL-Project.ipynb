{
 "nbformat": 4,
 "nbformat_minor": 2,
 "metadata": {
  "language_info": {
   "name": "python",
   "codemirror_mode": {
    "name": "ipython",
    "version": 3
   },
   "version": "3.7.4-final"
  },
  "orig_nbformat": 2,
  "file_extension": ".py",
  "mimetype": "text/x-python",
  "name": "python",
  "npconvert_exporter": "python",
  "pygments_lexer": "ipython3",
  "version": 3,
  "kernelspec": {
   "name": "python37464bitanaconda3virtualenvc6160eab42a54c3590acbe118843c3bb",
   "display_name": "Python 3.7.4 64-bit ('anaconda3': virtualenv)"
  }
 },
 "cells": [
  {
   "cell_type": "code",
   "execution_count": 1,
   "metadata": {},
   "outputs": [],
   "source": [
    "import pandas as pd\n",
    "from sqlalchemy import create_engine"
   ]
  },
  {
   "cell_type": "code",
   "execution_count": 97,
   "metadata": {},
   "outputs": [],
   "source": [
    "### Extract CSVs into DataFrames"
   ]
  },
  {
   "cell_type": "code",
   "execution_count": 68,
   "metadata": {},
   "outputs": [
    {
     "output_type": "execute_result",
     "data": {
      "text/plain": "     state  year   barrels              type\n0       AK  2008   2067.69       On Premises\n1       AK  2009   2263.65       On Premises\n2       AK  2010   1929.15       On Premises\n3       AK  2011   2251.02       On Premises\n4       AK  2012   2312.43       On Premises\n...    ...   ...       ...               ...\n1855    WY  2015   9671.70  Kegs and Barrels\n1856    WY  2016   8328.08  Kegs and Barrels\n1857    WY  2017   8312.15  Kegs and Barrels\n1858    WY  2018  16731.39  Kegs and Barrels\n1859    WY  2019  18726.19  Kegs and Barrels\n\n[1836 rows x 4 columns]",
      "text/html": "<div>\n<style scoped>\n    .dataframe tbody tr th:only-of-type {\n        vertical-align: middle;\n    }\n\n    .dataframe tbody tr th {\n        vertical-align: top;\n    }\n\n    .dataframe thead th {\n        text-align: right;\n    }\n</style>\n<table border=\"1\" class=\"dataframe\">\n  <thead>\n    <tr style=\"text-align: right;\">\n      <th></th>\n      <th>state</th>\n      <th>year</th>\n      <th>barrels</th>\n      <th>type</th>\n    </tr>\n  </thead>\n  <tbody>\n    <tr>\n      <td>0</td>\n      <td>AK</td>\n      <td>2008</td>\n      <td>2067.69</td>\n      <td>On Premises</td>\n    </tr>\n    <tr>\n      <td>1</td>\n      <td>AK</td>\n      <td>2009</td>\n      <td>2263.65</td>\n      <td>On Premises</td>\n    </tr>\n    <tr>\n      <td>2</td>\n      <td>AK</td>\n      <td>2010</td>\n      <td>1929.15</td>\n      <td>On Premises</td>\n    </tr>\n    <tr>\n      <td>3</td>\n      <td>AK</td>\n      <td>2011</td>\n      <td>2251.02</td>\n      <td>On Premises</td>\n    </tr>\n    <tr>\n      <td>4</td>\n      <td>AK</td>\n      <td>2012</td>\n      <td>2312.43</td>\n      <td>On Premises</td>\n    </tr>\n    <tr>\n      <td>...</td>\n      <td>...</td>\n      <td>...</td>\n      <td>...</td>\n      <td>...</td>\n    </tr>\n    <tr>\n      <td>1855</td>\n      <td>WY</td>\n      <td>2015</td>\n      <td>9671.70</td>\n      <td>Kegs and Barrels</td>\n    </tr>\n    <tr>\n      <td>1856</td>\n      <td>WY</td>\n      <td>2016</td>\n      <td>8328.08</td>\n      <td>Kegs and Barrels</td>\n    </tr>\n    <tr>\n      <td>1857</td>\n      <td>WY</td>\n      <td>2017</td>\n      <td>8312.15</td>\n      <td>Kegs and Barrels</td>\n    </tr>\n    <tr>\n      <td>1858</td>\n      <td>WY</td>\n      <td>2018</td>\n      <td>16731.39</td>\n      <td>Kegs and Barrels</td>\n    </tr>\n    <tr>\n      <td>1859</td>\n      <td>WY</td>\n      <td>2019</td>\n      <td>18726.19</td>\n      <td>Kegs and Barrels</td>\n    </tr>\n  </tbody>\n</table>\n<p>1836 rows × 4 columns</p>\n</div>"
     },
     "metadata": {},
     "execution_count": 68
    }
   ],
   "source": [
    "beer_states = \"../Resources/beer_states.csv\"\n",
    "beer_states_df = pd.read_csv(beer_states)\n",
    "beer_states_tot_df = beer_states_df[beer_states_df[\"state\"]!=\"total\"]\n",
    "#beer_states_tot_df = beer_states_tot_df.groupby(\"year\").sum()\n",
    "beer_states_tot_df"
   ]
  },
  {
   "cell_type": "code",
   "execution_count": 83,
   "metadata": {},
   "outputs": [
    {
     "output_type": "execute_result",
     "data": {
      "text/plain": "     state  year   barrels              type\n0       AK  2008   2067.69       On Premises\n1       AK  2009   2263.65       On Premises\n2       AK  2010   1929.15       On Premises\n3       AK  2011   2251.02       On Premises\n4       AK  2012   2312.43       On Premises\n...    ...   ...       ...               ...\n1855    WY  2015   9671.70  Kegs and Barrels\n1856    WY  2016   8328.08  Kegs and Barrels\n1857    WY  2017   8312.15  Kegs and Barrels\n1858    WY  2018  16731.39  Kegs and Barrels\n1859    WY  2019  18726.19  Kegs and Barrels\n\n[1836 rows x 4 columns]",
      "text/html": "<div>\n<style scoped>\n    .dataframe tbody tr th:only-of-type {\n        vertical-align: middle;\n    }\n\n    .dataframe tbody tr th {\n        vertical-align: top;\n    }\n\n    .dataframe thead th {\n        text-align: right;\n    }\n</style>\n<table border=\"1\" class=\"dataframe\">\n  <thead>\n    <tr style=\"text-align: right;\">\n      <th></th>\n      <th>state</th>\n      <th>year</th>\n      <th>barrels</th>\n      <th>type</th>\n    </tr>\n  </thead>\n  <tbody>\n    <tr>\n      <td>0</td>\n      <td>AK</td>\n      <td>2008</td>\n      <td>2067.69</td>\n      <td>On Premises</td>\n    </tr>\n    <tr>\n      <td>1</td>\n      <td>AK</td>\n      <td>2009</td>\n      <td>2263.65</td>\n      <td>On Premises</td>\n    </tr>\n    <tr>\n      <td>2</td>\n      <td>AK</td>\n      <td>2010</td>\n      <td>1929.15</td>\n      <td>On Premises</td>\n    </tr>\n    <tr>\n      <td>3</td>\n      <td>AK</td>\n      <td>2011</td>\n      <td>2251.02</td>\n      <td>On Premises</td>\n    </tr>\n    <tr>\n      <td>4</td>\n      <td>AK</td>\n      <td>2012</td>\n      <td>2312.43</td>\n      <td>On Premises</td>\n    </tr>\n    <tr>\n      <td>...</td>\n      <td>...</td>\n      <td>...</td>\n      <td>...</td>\n      <td>...</td>\n    </tr>\n    <tr>\n      <td>1855</td>\n      <td>WY</td>\n      <td>2015</td>\n      <td>9671.70</td>\n      <td>Kegs and Barrels</td>\n    </tr>\n    <tr>\n      <td>1856</td>\n      <td>WY</td>\n      <td>2016</td>\n      <td>8328.08</td>\n      <td>Kegs and Barrels</td>\n    </tr>\n    <tr>\n      <td>1857</td>\n      <td>WY</td>\n      <td>2017</td>\n      <td>8312.15</td>\n      <td>Kegs and Barrels</td>\n    </tr>\n    <tr>\n      <td>1858</td>\n      <td>WY</td>\n      <td>2018</td>\n      <td>16731.39</td>\n      <td>Kegs and Barrels</td>\n    </tr>\n    <tr>\n      <td>1859</td>\n      <td>WY</td>\n      <td>2019</td>\n      <td>18726.19</td>\n      <td>Kegs and Barrels</td>\n    </tr>\n  </tbody>\n</table>\n<p>1836 rows × 4 columns</p>\n</div>"
     },
     "metadata": {},
     "execution_count": 83
    }
   ],
   "source": [
    "beer_states_df[beer_states_df[\"state\"].str.contains(\"total\")==False]"
   ]
  },
  {
   "cell_type": "code",
   "execution_count": 91,
   "metadata": {},
   "outputs": [
    {
     "output_type": "execute_result",
     "data": {
      "text/plain": "                  0\n0       On Premises\n1  Bottles and Cans\n2  Kegs and Barrels",
      "text/html": "<div>\n<style scoped>\n    .dataframe tbody tr th:only-of-type {\n        vertical-align: middle;\n    }\n\n    .dataframe tbody tr th {\n        vertical-align: top;\n    }\n\n    .dataframe thead th {\n        text-align: right;\n    }\n</style>\n<table border=\"1\" class=\"dataframe\">\n  <thead>\n    <tr style=\"text-align: right;\">\n      <th></th>\n      <th>0</th>\n    </tr>\n  </thead>\n  <tbody>\n    <tr>\n      <td>0</td>\n      <td>On Premises</td>\n    </tr>\n    <tr>\n      <td>1</td>\n      <td>Bottles and Cans</td>\n    </tr>\n    <tr>\n      <td>2</td>\n      <td>Kegs and Barrels</td>\n    </tr>\n  </tbody>\n</table>\n</div>"
     },
     "metadata": {},
     "execution_count": 91
    }
   ],
   "source": [
    "types_states = beer_states_df.type.unique()\n",
    "types_states_df = pd.DataFrame(types_states)\n",
    "types_states_df"
   ]
  },
  {
   "cell_type": "code",
   "execution_count": 92,
   "metadata": {},
   "outputs": [
    {
     "output_type": "execute_result",
     "data": {
      "text/plain": "       0\n0   2008\n1   2009\n2   2010\n3   2011\n4   2012\n5   2013\n6   2014\n7   2015\n8   2016\n9   2017\n10  2018\n11  2019",
      "text/html": "<div>\n<style scoped>\n    .dataframe tbody tr th:only-of-type {\n        vertical-align: middle;\n    }\n\n    .dataframe tbody tr th {\n        vertical-align: top;\n    }\n\n    .dataframe thead th {\n        text-align: right;\n    }\n</style>\n<table border=\"1\" class=\"dataframe\">\n  <thead>\n    <tr style=\"text-align: right;\">\n      <th></th>\n      <th>0</th>\n    </tr>\n  </thead>\n  <tbody>\n    <tr>\n      <td>0</td>\n      <td>2008</td>\n    </tr>\n    <tr>\n      <td>1</td>\n      <td>2009</td>\n    </tr>\n    <tr>\n      <td>2</td>\n      <td>2010</td>\n    </tr>\n    <tr>\n      <td>3</td>\n      <td>2011</td>\n    </tr>\n    <tr>\n      <td>4</td>\n      <td>2012</td>\n    </tr>\n    <tr>\n      <td>5</td>\n      <td>2013</td>\n    </tr>\n    <tr>\n      <td>6</td>\n      <td>2014</td>\n    </tr>\n    <tr>\n      <td>7</td>\n      <td>2015</td>\n    </tr>\n    <tr>\n      <td>8</td>\n      <td>2016</td>\n    </tr>\n    <tr>\n      <td>9</td>\n      <td>2017</td>\n    </tr>\n    <tr>\n      <td>10</td>\n      <td>2018</td>\n    </tr>\n    <tr>\n      <td>11</td>\n      <td>2019</td>\n    </tr>\n  </tbody>\n</table>\n</div>"
     },
     "metadata": {},
     "execution_count": 92
    }
   ],
   "source": [
    "year_states = beer_states_df.year.unique()\n",
    "year_states_df = pd.DataFrame(year_states)\n",
    "year_states_df"
   ]
  },
  {
   "cell_type": "code",
   "execution_count": 96,
   "metadata": {},
   "outputs": [],
   "source": [
    "#brewer_size = \"../Resources/brewer_size.csv\"\n",
    "#brewer_size_df = pd.read_csv(brewer_size)\n",
    "#brewer_size_df.head()"
   ]
  },
  {
   "cell_type": "code",
   "execution_count": 51,
   "metadata": {},
   "outputs": [
    {
     "output_type": "execute_result",
     "data": {
      "text/plain": "array(['data_type', 'material_type', 'year', 'month', 'type',\n       'month_current', 'month_prior_year', 'ytd_current',\n       'ytd_prior_year'], dtype=object)"
     },
     "metadata": {},
     "execution_count": 51
    }
   ],
   "source": [
    "brewing_materials = \"../Resources/brewing_materials.csv\"\n",
    "brewing_materials_df = pd.read_csv(brewing_materials)\n",
    "#brewing_materials_df = brewing_materials_df.sort_values(by=\"type\")\n",
    "brewing_materials_df.columns.values"
   ]
  },
  {
   "cell_type": "code",
   "execution_count": 53,
   "metadata": {},
   "outputs": [
    {
     "output_type": "execute_result",
     "data": {
      "text/plain": "                 material_type  year  month                        type  \\\n0               Grain Products  2008      1      Malt and malt products   \n1               Grain Products  2008      1      Corn and corn products   \n2               Grain Products  2008      1      Rice and rice products   \n3               Grain Products  2008      1  Barley and barley products   \n4               Grain Products  2008      1    Wheat and wheat products   \n...                        ...   ...    ...                         ...   \n1435        Non-Grain Products  2017     12                  Hops (dry)   \n1436        Non-Grain Products  2017     12     Hops (used as extracts)   \n1437        Non-Grain Products  2017     12                       Other   \n1438  Total Non-Grain products  2017     12    Total Non-Grain products   \n1439                Total Used  2017     12                  Total Used   \n\n      month_current  \n0         374165152  \n1          57563519  \n2          72402143  \n3           3800844  \n4           1177186  \n...             ...  \n1435        1453024  \n1436           2117  \n1437         657306  \n1438        2148660  \n1439       16027407  \n\n[1440 rows x 5 columns]",
      "text/html": "<div>\n<style scoped>\n    .dataframe tbody tr th:only-of-type {\n        vertical-align: middle;\n    }\n\n    .dataframe tbody tr th {\n        vertical-align: top;\n    }\n\n    .dataframe thead th {\n        text-align: right;\n    }\n</style>\n<table border=\"1\" class=\"dataframe\">\n  <thead>\n    <tr style=\"text-align: right;\">\n      <th></th>\n      <th>material_type</th>\n      <th>year</th>\n      <th>month</th>\n      <th>type</th>\n      <th>month_current</th>\n    </tr>\n  </thead>\n  <tbody>\n    <tr>\n      <td>0</td>\n      <td>Grain Products</td>\n      <td>2008</td>\n      <td>1</td>\n      <td>Malt and malt products</td>\n      <td>374165152</td>\n    </tr>\n    <tr>\n      <td>1</td>\n      <td>Grain Products</td>\n      <td>2008</td>\n      <td>1</td>\n      <td>Corn and corn products</td>\n      <td>57563519</td>\n    </tr>\n    <tr>\n      <td>2</td>\n      <td>Grain Products</td>\n      <td>2008</td>\n      <td>1</td>\n      <td>Rice and rice products</td>\n      <td>72402143</td>\n    </tr>\n    <tr>\n      <td>3</td>\n      <td>Grain Products</td>\n      <td>2008</td>\n      <td>1</td>\n      <td>Barley and barley products</td>\n      <td>3800844</td>\n    </tr>\n    <tr>\n      <td>4</td>\n      <td>Grain Products</td>\n      <td>2008</td>\n      <td>1</td>\n      <td>Wheat and wheat products</td>\n      <td>1177186</td>\n    </tr>\n    <tr>\n      <td>...</td>\n      <td>...</td>\n      <td>...</td>\n      <td>...</td>\n      <td>...</td>\n      <td>...</td>\n    </tr>\n    <tr>\n      <td>1435</td>\n      <td>Non-Grain Products</td>\n      <td>2017</td>\n      <td>12</td>\n      <td>Hops (dry)</td>\n      <td>1453024</td>\n    </tr>\n    <tr>\n      <td>1436</td>\n      <td>Non-Grain Products</td>\n      <td>2017</td>\n      <td>12</td>\n      <td>Hops (used as extracts)</td>\n      <td>2117</td>\n    </tr>\n    <tr>\n      <td>1437</td>\n      <td>Non-Grain Products</td>\n      <td>2017</td>\n      <td>12</td>\n      <td>Other</td>\n      <td>657306</td>\n    </tr>\n    <tr>\n      <td>1438</td>\n      <td>Total Non-Grain products</td>\n      <td>2017</td>\n      <td>12</td>\n      <td>Total Non-Grain products</td>\n      <td>2148660</td>\n    </tr>\n    <tr>\n      <td>1439</td>\n      <td>Total Used</td>\n      <td>2017</td>\n      <td>12</td>\n      <td>Total Used</td>\n      <td>16027407</td>\n    </tr>\n  </tbody>\n</table>\n<p>1440 rows × 5 columns</p>\n</div>"
     },
     "metadata": {},
     "execution_count": 53
    }
   ],
   "source": [
    "brewing_materials_df = brewing_materials_df[['material_type', 'year', 'month', 'type','month_current']]\n",
    "#brewing_materials_df.reset_index(inplace=True)\n",
    "\n",
    "brewing_materials_df"
   ]
  },
  {
   "cell_type": "code",
   "execution_count": 63,
   "metadata": {},
   "outputs": [
    {
     "output_type": "execute_result",
     "data": {
      "text/plain": "           material_type  year  month                        type  \\\n0         Grain Products  2008      1      Malt and malt products   \n1         Grain Products  2008      1      Corn and corn products   \n2         Grain Products  2008      1      Rice and rice products   \n3         Grain Products  2008      1  Barley and barley products   \n4         Grain Products  2008      1    Wheat and wheat products   \n...                  ...   ...    ...                         ...   \n1432      Grain Products  2017     12    Wheat and wheat products   \n1434  Non-Grain Products  2017     12            Sugar and syrups   \n1435  Non-Grain Products  2017     12                  Hops (dry)   \n1436  Non-Grain Products  2017     12     Hops (used as extracts)   \n1437  Non-Grain Products  2017     12                       Other   \n\n      month_current  \n0         374165152  \n1          57563519  \n2          72402143  \n3           3800844  \n4           1177186  \n...             ...  \n1432         128174  \n1434          36213  \n1435        1453024  \n1436           2117  \n1437         657306  \n\n[1080 rows x 5 columns]",
      "text/html": "<div>\n<style scoped>\n    .dataframe tbody tr th:only-of-type {\n        vertical-align: middle;\n    }\n\n    .dataframe tbody tr th {\n        vertical-align: top;\n    }\n\n    .dataframe thead th {\n        text-align: right;\n    }\n</style>\n<table border=\"1\" class=\"dataframe\">\n  <thead>\n    <tr style=\"text-align: right;\">\n      <th></th>\n      <th>material_type</th>\n      <th>year</th>\n      <th>month</th>\n      <th>type</th>\n      <th>month_current</th>\n    </tr>\n  </thead>\n  <tbody>\n    <tr>\n      <td>0</td>\n      <td>Grain Products</td>\n      <td>2008</td>\n      <td>1</td>\n      <td>Malt and malt products</td>\n      <td>374165152</td>\n    </tr>\n    <tr>\n      <td>1</td>\n      <td>Grain Products</td>\n      <td>2008</td>\n      <td>1</td>\n      <td>Corn and corn products</td>\n      <td>57563519</td>\n    </tr>\n    <tr>\n      <td>2</td>\n      <td>Grain Products</td>\n      <td>2008</td>\n      <td>1</td>\n      <td>Rice and rice products</td>\n      <td>72402143</td>\n    </tr>\n    <tr>\n      <td>3</td>\n      <td>Grain Products</td>\n      <td>2008</td>\n      <td>1</td>\n      <td>Barley and barley products</td>\n      <td>3800844</td>\n    </tr>\n    <tr>\n      <td>4</td>\n      <td>Grain Products</td>\n      <td>2008</td>\n      <td>1</td>\n      <td>Wheat and wheat products</td>\n      <td>1177186</td>\n    </tr>\n    <tr>\n      <td>...</td>\n      <td>...</td>\n      <td>...</td>\n      <td>...</td>\n      <td>...</td>\n      <td>...</td>\n    </tr>\n    <tr>\n      <td>1432</td>\n      <td>Grain Products</td>\n      <td>2017</td>\n      <td>12</td>\n      <td>Wheat and wheat products</td>\n      <td>128174</td>\n    </tr>\n    <tr>\n      <td>1434</td>\n      <td>Non-Grain Products</td>\n      <td>2017</td>\n      <td>12</td>\n      <td>Sugar and syrups</td>\n      <td>36213</td>\n    </tr>\n    <tr>\n      <td>1435</td>\n      <td>Non-Grain Products</td>\n      <td>2017</td>\n      <td>12</td>\n      <td>Hops (dry)</td>\n      <td>1453024</td>\n    </tr>\n    <tr>\n      <td>1436</td>\n      <td>Non-Grain Products</td>\n      <td>2017</td>\n      <td>12</td>\n      <td>Hops (used as extracts)</td>\n      <td>2117</td>\n    </tr>\n    <tr>\n      <td>1437</td>\n      <td>Non-Grain Products</td>\n      <td>2017</td>\n      <td>12</td>\n      <td>Other</td>\n      <td>657306</td>\n    </tr>\n  </tbody>\n</table>\n<p>1080 rows × 5 columns</p>\n</div>"
     },
     "metadata": {},
     "execution_count": 63
    }
   ],
   "source": [
    "brewing_materials_df = brewing_materials_df[brewing_materials_df[\"material_type\"].str.contains(\"Total\")==False]\n",
    "brewing_materials_df"
   ]
  },
  {
   "cell_type": "code",
   "execution_count": 64,
   "metadata": {},
   "outputs": [
    {
     "output_type": "execute_result",
     "data": {
      "text/plain": "           material_type  year  month                        type  \\\n0         Grain Products  2008      1      Malt and malt products   \n1         Grain Products  2008      1      Corn and corn products   \n2         Grain Products  2008      1      Rice and rice products   \n3         Grain Products  2008      1  Barley and barley products   \n4         Grain Products  2008      1    Wheat and wheat products   \n...                  ...   ...    ...                         ...   \n1432      Grain Products  2017     12    Wheat and wheat products   \n1434  Non-Grain Products  2017     12            Sugar and syrups   \n1435  Non-Grain Products  2017     12                  Hops (dry)   \n1436  Non-Grain Products  2017     12     Hops (used as extracts)   \n1437  Non-Grain Products  2017     12                       Other   \n\n      month_current  \n0         374165152  \n1          57563519  \n2          72402143  \n3           3800844  \n4           1177186  \n...             ...  \n1432         128174  \n1434          36213  \n1435        1453024  \n1436           2117  \n1437         657306  \n\n[1080 rows x 5 columns]",
      "text/html": "<div>\n<style scoped>\n    .dataframe tbody tr th:only-of-type {\n        vertical-align: middle;\n    }\n\n    .dataframe tbody tr th {\n        vertical-align: top;\n    }\n\n    .dataframe thead th {\n        text-align: right;\n    }\n</style>\n<table border=\"1\" class=\"dataframe\">\n  <thead>\n    <tr style=\"text-align: right;\">\n      <th></th>\n      <th>material_type</th>\n      <th>year</th>\n      <th>month</th>\n      <th>type</th>\n      <th>month_current</th>\n    </tr>\n  </thead>\n  <tbody>\n    <tr>\n      <td>0</td>\n      <td>Grain Products</td>\n      <td>2008</td>\n      <td>1</td>\n      <td>Malt and malt products</td>\n      <td>374165152</td>\n    </tr>\n    <tr>\n      <td>1</td>\n      <td>Grain Products</td>\n      <td>2008</td>\n      <td>1</td>\n      <td>Corn and corn products</td>\n      <td>57563519</td>\n    </tr>\n    <tr>\n      <td>2</td>\n      <td>Grain Products</td>\n      <td>2008</td>\n      <td>1</td>\n      <td>Rice and rice products</td>\n      <td>72402143</td>\n    </tr>\n    <tr>\n      <td>3</td>\n      <td>Grain Products</td>\n      <td>2008</td>\n      <td>1</td>\n      <td>Barley and barley products</td>\n      <td>3800844</td>\n    </tr>\n    <tr>\n      <td>4</td>\n      <td>Grain Products</td>\n      <td>2008</td>\n      <td>1</td>\n      <td>Wheat and wheat products</td>\n      <td>1177186</td>\n    </tr>\n    <tr>\n      <td>...</td>\n      <td>...</td>\n      <td>...</td>\n      <td>...</td>\n      <td>...</td>\n      <td>...</td>\n    </tr>\n    <tr>\n      <td>1432</td>\n      <td>Grain Products</td>\n      <td>2017</td>\n      <td>12</td>\n      <td>Wheat and wheat products</td>\n      <td>128174</td>\n    </tr>\n    <tr>\n      <td>1434</td>\n      <td>Non-Grain Products</td>\n      <td>2017</td>\n      <td>12</td>\n      <td>Sugar and syrups</td>\n      <td>36213</td>\n    </tr>\n    <tr>\n      <td>1435</td>\n      <td>Non-Grain Products</td>\n      <td>2017</td>\n      <td>12</td>\n      <td>Hops (dry)</td>\n      <td>1453024</td>\n    </tr>\n    <tr>\n      <td>1436</td>\n      <td>Non-Grain Products</td>\n      <td>2017</td>\n      <td>12</td>\n      <td>Hops (used as extracts)</td>\n      <td>2117</td>\n    </tr>\n    <tr>\n      <td>1437</td>\n      <td>Non-Grain Products</td>\n      <td>2017</td>\n      <td>12</td>\n      <td>Other</td>\n      <td>657306</td>\n    </tr>\n  </tbody>\n</table>\n<p>1080 rows × 5 columns</p>\n</div>"
     },
     "metadata": {},
     "execution_count": 64
    }
   ],
   "source": [
    "brewing_materials_df[brewing_materials_df[\"type\"].str.contains(\"Total\")==False]"
   ]
  },
  {
   "cell_type": "code",
   "execution_count": 79,
   "metadata": {},
   "outputs": [
    {
     "output_type": "execute_result",
     "data": {
      "text/plain": "array(['Malt and malt products', 'Corn and corn products',\n       'Rice and rice products', 'Barley and barley products',\n       'Wheat and wheat products', 'Sugar and syrups', 'Hops (dry)',\n       'Hops (used as extracts)', 'Other'], dtype=object)"
     },
     "metadata": {},
     "execution_count": 79
    }
   ],
   "source": [
    "types = brewing_materials_df.type.unique()\n",
    "types"
   ]
  },
  {
   "cell_type": "code",
   "execution_count": 80,
   "metadata": {},
   "outputs": [
    {
     "output_type": "execute_result",
     "data": {
      "text/plain": "                            0\n0      Malt and malt products\n1      Corn and corn products\n2      Rice and rice products\n3  Barley and barley products\n4    Wheat and wheat products\n5            Sugar and syrups\n6                  Hops (dry)\n7     Hops (used as extracts)\n8                       Other",
      "text/html": "<div>\n<style scoped>\n    .dataframe tbody tr th:only-of-type {\n        vertical-align: middle;\n    }\n\n    .dataframe tbody tr th {\n        vertical-align: top;\n    }\n\n    .dataframe thead th {\n        text-align: right;\n    }\n</style>\n<table border=\"1\" class=\"dataframe\">\n  <thead>\n    <tr style=\"text-align: right;\">\n      <th></th>\n      <th>0</th>\n    </tr>\n  </thead>\n  <tbody>\n    <tr>\n      <td>0</td>\n      <td>Malt and malt products</td>\n    </tr>\n    <tr>\n      <td>1</td>\n      <td>Corn and corn products</td>\n    </tr>\n    <tr>\n      <td>2</td>\n      <td>Rice and rice products</td>\n    </tr>\n    <tr>\n      <td>3</td>\n      <td>Barley and barley products</td>\n    </tr>\n    <tr>\n      <td>4</td>\n      <td>Wheat and wheat products</td>\n    </tr>\n    <tr>\n      <td>5</td>\n      <td>Sugar and syrups</td>\n    </tr>\n    <tr>\n      <td>6</td>\n      <td>Hops (dry)</td>\n    </tr>\n    <tr>\n      <td>7</td>\n      <td>Hops (used as extracts)</td>\n    </tr>\n    <tr>\n      <td>8</td>\n      <td>Other</td>\n    </tr>\n  </tbody>\n</table>\n</div>"
     },
     "metadata": {},
     "execution_count": 80
    }
   ],
   "source": [
    "types_df = pd.DataFrame(types)\n",
    "types_df"
   ]
  },
  {
   "cell_type": "code",
   "execution_count": 67,
   "metadata": {},
   "outputs": [
    {
     "output_type": "execute_result",
     "data": {
      "text/plain": "array(['Grain Products', 'Non-Grain Products'], dtype=object)"
     },
     "metadata": {},
     "execution_count": 67
    }
   ],
   "source": [
    "material_types = brewing_materials_df.material_type.unique()\n",
    "material_types"
   ]
  },
  {
   "cell_type": "code",
   "execution_count": 72,
   "metadata": {},
   "outputs": [
    {
     "output_type": "execute_result",
     "data": {
      "text/plain": "                    0\n0      Grain Products\n1  Non-Grain Products",
      "text/html": "<div>\n<style scoped>\n    .dataframe tbody tr th:only-of-type {\n        vertical-align: middle;\n    }\n\n    .dataframe tbody tr th {\n        vertical-align: top;\n    }\n\n    .dataframe thead th {\n        text-align: right;\n    }\n</style>\n<table border=\"1\" class=\"dataframe\">\n  <thead>\n    <tr style=\"text-align: right;\">\n      <th></th>\n      <th>0</th>\n    </tr>\n  </thead>\n  <tbody>\n    <tr>\n      <td>0</td>\n      <td>Grain Products</td>\n    </tr>\n    <tr>\n      <td>1</td>\n      <td>Non-Grain Products</td>\n    </tr>\n  </tbody>\n</table>\n</div>"
     },
     "metadata": {},
     "execution_count": 72
    }
   ],
   "source": [
    "material_types_df = pd.DataFrame(material_types)\n",
    "material_types_df"
   ]
  },
  {
   "cell_type": "code",
   "execution_count": 34,
   "metadata": {},
   "outputs": [
    {
     "output_type": "execute_result",
     "data": {
      "text/plain": "array([2009, 2012, 2015, 2010, 2011, 2016, 2013, 2017, 2008, 2014])"
     },
     "metadata": {},
     "execution_count": 34
    }
   ],
   "source": [
    "#brewing_materials_df.year.unique()"
   ]
  },
  {
   "cell_type": "code",
   "execution_count": null,
   "metadata": {},
   "outputs": [],
   "source": []
  },
  {
   "cell_type": "code",
   "execution_count": 8,
   "metadata": {},
   "outputs": [],
   "source": [
    "### Transform DataFrame"
   ]
  },
  {
   "cell_type": "code",
   "execution_count": 95,
   "metadata": {},
   "outputs": [],
   "source": [
    "# Create a filtered dataframe from specific columns\n",
    "#beer_states_cols = [\"state\", \"year\", \"barrels\", \"type\"]\n",
    "#beer_states_transformed = beer_states_df[beer_states_cols].copy()\n",
    "\n",
    "# Clean the data setting the index\n",
    "#beer_states_transformed.set_index(\"year\", inplace=True)\n",
    "#beer_states_transformed.head()"
   ]
  },
  {
   "cell_type": "code",
   "execution_count": 94,
   "metadata": {},
   "outputs": [],
   "source": [
    "# Create a filtered dataframe from specific columns\n",
    "#brewer_size_cols = [\"year\", \"brewer_size\", \"n_of_brewers\", \"total_barrels\"]\n",
    "#brewer_size_transformed = brewer_size_df[brewer_size_cols].copy()\n",
    "\n",
    "# Clean the data by setting the index\n",
    "#brewer_size_transformed.set_index(\"year\", inplace=True)\n",
    "#brewer_size_transformed.head()"
   ]
  },
  {
   "cell_type": "code",
   "execution_count": 93,
   "metadata": {},
   "outputs": [],
   "source": [
    "# Create a filtered dataframe from specific columns\n",
    "#brewing_materials_cols = [\"material_type\", \"year\", \"month\", \"type\", \"month_current\"]\n",
    "#brewing_materials_transformed= brewing_materials_df[brewing_materials_cols].copy()\n",
    "\n",
    "# Rename the column headers\n",
    "#brewing_materials_transformed = brewing_materials_transformed.rename(columns={\"month_current\": \"barrels\"})\n",
    "\n",
    "# Clean the data by dropping duplicates and setting the index\n",
    "#brewing_materials_transformed.set_index(\"year\", inplace=True)\n",
    "\n",
    "#brewing_materials_transformed.head()"
   ]
  },
  {
   "cell_type": "code",
   "execution_count": null,
   "metadata": {},
   "outputs": [],
   "source": []
  }
 ]
}